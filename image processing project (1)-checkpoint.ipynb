{
 "cells": [
  {
   "cell_type": "code",
   "execution_count": 1,
   "id": "e18889fc",
   "metadata": {},
   "outputs": [],
   "source": [
    "import tkinter as tk\n",
    "from tkinter import filedialog, messagebox\n",
    "from PIL import Image, ImageTk\n",
    "import cv2\n",
    "import numpy as np"
   ]
  },
  {
   "cell_type": "code",
   "execution_count": 2,
   "id": "81f52190",
   "metadata": {},
   "outputs": [],
   "source": [
    "def open_image():\n",
    "    file_path = filedialog.askopenfilename()\n",
    "    if file_path:\n",
    "        global original_image  # This will be accessed in other functions\n",
    "        original_image = Image.open(file_path)\n",
    "        original_image = original_image.resize((250, 250))  # Resize for easier handling in the GUI\n",
    "        img = ImageTk.PhotoImage(original_image)\n",
    "        panel.configure(image=img)\n",
    "        panel.image = img"
   ]
  },
  {
   "cell_type": "code",
   "execution_count": 3,
   "id": "203f055c",
   "metadata": {},
   "outputs": [],
   "source": [
    "def apply_enhancement(method):\n",
    "    if original_image:\n",
    "        # Convert PIL Image to OpenCV format\n",
    "        image = cv2.cvtColor(np.array(original_image), cv2.COLOR_RGB2BGR)\n",
    "        if method == 'histogram':\n",
    "            image = cv2.cvtColor(image, cv2.COLOR_BGR2GRAY)\n",
    "            image = cv2.equalizeHist(image)\n",
    "        elif method == 'sharpen':\n",
    "            kernel = np.array([[0, -1, 0], [-1, 5, -1], [0, -1, 0]])\n",
    "            image = cv2.filter2D(image, -1, kernel)\n",
    "        \n",
    "        # Convert back to PIL Image to display\n",
    "        image = Image.fromarray(cv2.cvtColor(image, cv2.COLOR_BGR2RGB))\n",
    "        image = image.resize((250, 250))\n",
    "        img = ImageTk.PhotoImage(image)\n",
    "        result_panel.configure(image=img)\n",
    "        result_panel.image = img"
   ]
  },
  {
   "cell_type": "code",
   "execution_count": 4,
   "id": "02307893",
   "metadata": {},
   "outputs": [],
   "source": [
    "def apply_segmentation(method):\n",
    "    if original_image:\n",
    "        image = cv2.cvtColor(np.array(original_image), cv2.COLOR_RGB2GRAY)\n",
    "        if method == 'otsu':\n",
    "            _, image = cv2.threshold(image, 0, 255, cv2.THRESH_BINARY + cv2.THRESH_OTSU)\n",
    "        elif method == 'adaptive':\n",
    "            image = cv2.adaptiveThreshold(image, 255, cv2.ADAPTIVE_THRESH_GAUSSIAN_C, cv2.THRESH_BINARY, 11, 2)\n",
    "        \n",
    "        # Convert back to PIL Image to display\n",
    "        image = Image.fromarray(image)\n",
    "        image = image.resize((250, 250))\n",
    "        img = ImageTk.PhotoImage(image)\n",
    "        result_panel.configure(image=img)\n",
    "        result_panel.image = img"
   ]
  },
  {
   "cell_type": "code",
   "execution_count": 5,
   "id": "e14cfcb5",
   "metadata": {},
   "outputs": [],
   "source": [
    "def process_image(file_path):\n",
    "    # Read the image using OpenCV\n",
    "    image = cv2.imread(file_path)\n",
    "    enhanced = enhance_image(image)\n",
    "    segmented = segment_image(enhanced)\n",
    "\n",
    "    # Convert back to PIL format to display in Tkinter\n",
    "    display_image = Image.fromarray(segmented)\n",
    "    display_image = display_image.resize((250, 250))\n",
    "    img = ImageTk.PhotoImage(display_image)\n",
    "    result_panel.configure(image=img)\n",
    "    result_panel.image = img"
   ]
  },
  {
   "cell_type": "code",
   "execution_count": 6,
   "id": "7ecd6d5d",
   "metadata": {},
   "outputs": [],
   "source": [
    "root = tk.Tk()\n",
    "root.title(\"Image Processing GUI\")\n",
    "\n",
    "# Panel to display the original image\n",
    "panel = tk.Label(root)\n",
    "panel.pack(side=\"left\", padx=10, pady=10)\n",
    "\n",
    "# Panel to display the processed image\n",
    "result_panel = tk.Label(root)\n",
    "result_panel.pack(side=\"right\", padx=10, pady=10)\n",
    "\n",
    "# Enhancement buttons\n",
    "enhance_btn1 = tk.Button(root, text=\"Histogram Equalization\", command=lambda: apply_enhancement('histogram'))\n",
    "enhance_btn1.pack(side=\"bottom\", pady=5)\n",
    "\n",
    "enhance_btn2 = tk.Button(root, text=\"Sharpen\", command=lambda: apply_enhancement('sharpen'))\n",
    "enhance_btn2.pack(side=\"bottom\", pady=5)\n",
    "\n",
    "# Segmentation buttons\n",
    "segment_btn1 = tk.Button(root, text=\"Otsu's Thresholding\", command=lambda: apply_segmentation('otsu'))\n",
    "segment_btn1.pack(side=\"bottom\", pady=5)\n",
    "\n",
    "segment_btn2 = tk.Button(root, text=\"Adaptive Thresholding\", command=lambda: apply_segmentation('adaptive'))\n",
    "segment_btn2.pack(side=\"bottom\", pady=5)\n",
    "\n",
    "# Button to open the image\n",
    "btn = tk.Button(root, text=\"Open Image\", command=open_image)\n",
    "btn.pack(side=\"bottom\", pady=10)\n",
    "\n",
    "root.mainloop()"
   ]
  },
  {
   "cell_type": "code",
   "execution_count": null,
   "id": "3268e773",
   "metadata": {},
   "outputs": [],
   "source": []
  },
  {
   "cell_type": "code",
   "execution_count": null,
   "id": "558fd7ee",
   "metadata": {},
   "outputs": [],
   "source": []
  }
 ],
 "metadata": {
  "kernelspec": {
   "display_name": "Python 3 (ipykernel)",
   "language": "python",
   "name": "python3"
  },
  "language_info": {
   "codemirror_mode": {
    "name": "ipython",
    "version": 3
   },
   "file_extension": ".py",
   "mimetype": "text/x-python",
   "name": "python",
   "nbconvert_exporter": "python",
   "pygments_lexer": "ipython3",
   "version": "3.9.12"
  }
 },
 "nbformat": 4,
 "nbformat_minor": 5
}
